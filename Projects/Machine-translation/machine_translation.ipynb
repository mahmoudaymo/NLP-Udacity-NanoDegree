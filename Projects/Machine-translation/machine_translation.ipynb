{
 "cells": [
  {
   "cell_type": "markdown",
   "metadata": {
    "collapsed": true
   },
   "source": [
    "# Artificial Intelligence Nanodegree\n",
    "## Machine Translation Project\n",
    "In this notebook, sections that end with **'(IMPLEMENTATION)'** in the header indicate that the following blocks of code will require additional functionality which you must provide. Please be sure to read the instructions carefully!\n",
    "\n",
    "## Introduction\n",
    "In this notebook, you will build a deep neural network that functions as part of an end-to-end machine translation pipeline. Your completed pipeline will accept English text as input and return the French translation.\n",
    "\n",
    "- **Preprocess** - You'll convert text to sequence of integers.\n",
    "- **Models** Create models which accepts a sequence of integers as input and returns a probability distribution over possible translations. After learning about the basic types of neural networks that are often used for machine translation, you will engage in your own investigations, to design your own model!\n",
    "- **Prediction** Run the model on English text."
   ]
  },
  {
   "cell_type": "code",
   "execution_count": 1,
   "metadata": {},
   "outputs": [],
   "source": [
    "%load_ext autoreload\n",
    "%aimport helper, tests\n",
    "%autoreload 1"
   ]
  },
  {
   "cell_type": "code",
   "execution_count": 2,
   "metadata": {},
   "outputs": [
    {
     "name": "stderr",
     "output_type": "stream",
     "text": [
      "Using TensorFlow backend.\n"
     ]
    }
   ],
   "source": [
    "import collections\n",
    "\n",
    "import helper\n",
    "import numpy as np\n",
    "import project_tests as tests\n",
    "\n",
    "from keras.preprocessing.text import Tokenizer\n",
    "from keras.preprocessing.sequence import pad_sequences\n",
    "from keras.models import Model\n",
    "from keras.layers import GRU, Input, Dense, TimeDistributed, Activation, RepeatVector, Bidirectional\n",
    "from keras.layers.embeddings import Embedding\n",
    "from keras.optimizers import Adam\n",
    "from keras.losses import sparse_categorical_crossentropy"
   ]
  },
  {
   "cell_type": "markdown",
   "metadata": {},
   "source": [
    "### Verify access to the GPU\n",
    "The following test applies only if you expect to be using a GPU, e.g., while running in a Udacity Workspace or using an AWS instance with GPU support. Run the next cell, and verify that the device_type is \"GPU\".\n",
    "- If the device is not GPU & you are running from a Udacity Workspace, then save your workspace with the icon at the top, then click \"enable\" at the bottom of the workspace.\n",
    "- If the device is not GPU & you are running from an AWS instance, then refer to the cloud computing instructions in the classroom to verify your setup steps."
   ]
  },
  {
   "cell_type": "code",
   "execution_count": 3,
   "metadata": {},
   "outputs": [
    {
     "name": "stdout",
     "output_type": "stream",
     "text": [
      "[name: \"/cpu:0\"\n",
      "device_type: \"CPU\"\n",
      "memory_limit: 268435456\n",
      "locality {\n",
      "}\n",
      "incarnation: 15827272679397849663\n",
      ", name: \"/gpu:0\"\n",
      "device_type: \"GPU\"\n",
      "memory_limit: 357564416\n",
      "locality {\n",
      "  bus_id: 1\n",
      "}\n",
      "incarnation: 15417058231970545311\n",
      "physical_device_desc: \"device: 0, name: Tesla K80, pci bus id: 0000:00:04.0\"\n",
      "]\n"
     ]
    }
   ],
   "source": [
    "from tensorflow.python.client import device_lib\n",
    "print(device_lib.list_local_devices())"
   ]
  },
  {
   "cell_type": "markdown",
   "metadata": {},
   "source": [
    "## Dataset\n",
    "We begin by investigating the dataset that will be used to train and evaluate your pipeline.  The most common datasets used for machine translation are from [WMT](http://www.statmt.org/).  However, that will take a long time to train a neural network on.  We'll be using a dataset we created for this project that contains a small vocabulary.  You'll be able to train your model in a reasonable time with this dataset.\n",
    "### Load Data\n",
    "The data is located in `data/small_vocab_en` and `data/small_vocab_fr`. The `small_vocab_en` file contains English sentences with their French translations in the `small_vocab_fr` file. Load the English and French data from these files from running the cell below."
   ]
  },
  {
   "cell_type": "code",
   "execution_count": 4,
   "metadata": {},
   "outputs": [
    {
     "name": "stdout",
     "output_type": "stream",
     "text": [
      "Dataset Loaded\n"
     ]
    }
   ],
   "source": [
    "# Load English data\n",
    "english_sentences = helper.load_data('data/small_vocab_en')\n",
    "# Load French data\n",
    "french_sentences = helper.load_data('data/small_vocab_fr')\n",
    "\n",
    "print('Dataset Loaded')"
   ]
  },
  {
   "cell_type": "markdown",
   "metadata": {},
   "source": [
    "### Files\n",
    "Each line in `small_vocab_en` contains an English sentence with the respective translation in each line of `small_vocab_fr`.  View the first two lines from each file."
   ]
  },
  {
   "cell_type": "code",
   "execution_count": 5,
   "metadata": {},
   "outputs": [
    {
     "name": "stdout",
     "output_type": "stream",
     "text": [
      "small_vocab_en Line 1:  new jersey is sometimes quiet during autumn , and it is snowy in april .\n",
      "small_vocab_fr Line 1:  new jersey est parfois calme pendant l' automne , et il est neigeux en avril .\n",
      "small_vocab_en Line 2:  the united states is usually chilly during july , and it is usually freezing in november .\n",
      "small_vocab_fr Line 2:  les états-unis est généralement froid en juillet , et il gèle habituellement en novembre .\n"
     ]
    }
   ],
   "source": [
    "for sample_i in range(2):\n",
    "    print('small_vocab_en Line {}:  {}'.format(sample_i + 1, english_sentences[sample_i]))\n",
    "    print('small_vocab_fr Line {}:  {}'.format(sample_i + 1, french_sentences[sample_i]))"
   ]
  },
  {
   "cell_type": "markdown",
   "metadata": {},
   "source": [
    "From looking at the sentences, you can see they have been preprocessed already.  The puncuations have been delimited using spaces. All the text have been converted to lowercase.  This should save you some time, but the text requires more preprocessing.\n",
    "### Vocabulary\n",
    "The complexity of the problem is determined by the complexity of the vocabulary.  A more complex vocabulary is a more complex problem.  Let's look at the complexity of the dataset we'll be working with."
   ]
  },
  {
   "cell_type": "code",
   "execution_count": 6,
   "metadata": {},
   "outputs": [
    {
     "name": "stdout",
     "output_type": "stream",
     "text": [
      "1823250 English words.\n",
      "227 unique English words.\n",
      "10 Most common words in the English dataset:\n",
      "\"is\" \",\" \".\" \"in\" \"it\" \"during\" \"the\" \"but\" \"and\" \"sometimes\"\n",
      "\n",
      "1961295 French words.\n",
      "355 unique French words.\n",
      "10 Most common words in the French dataset:\n",
      "\"est\" \".\" \",\" \"en\" \"il\" \"les\" \"mais\" \"et\" \"la\" \"parfois\"\n"
     ]
    }
   ],
   "source": [
    "english_words_counter = collections.Counter([word for sentence in english_sentences for word in sentence.split()])\n",
    "french_words_counter = collections.Counter([word for sentence in french_sentences for word in sentence.split()])\n",
    "\n",
    "print('{} English words.'.format(len([word for sentence in english_sentences for word in sentence.split()])))\n",
    "print('{} unique English words.'.format(len(english_words_counter)))\n",
    "print('10 Most common words in the English dataset:')\n",
    "print('\"' + '\" \"'.join(list(zip(*english_words_counter.most_common(10)))[0]) + '\"')\n",
    "print()\n",
    "print('{} French words.'.format(len([word for sentence in french_sentences for word in sentence.split()])))\n",
    "print('{} unique French words.'.format(len(french_words_counter)))\n",
    "print('10 Most common words in the French dataset:')\n",
    "print('\"' + '\" \"'.join(list(zip(*french_words_counter.most_common(10)))[0]) + '\"')"
   ]
  },
  {
   "cell_type": "markdown",
   "metadata": {},
   "source": [
    "For comparison, _Alice's Adventures in Wonderland_ contains 2,766 unique words of a total of 15,500 words.\n",
    "## Preprocess\n",
    "For this project, you won't use text data as input to your model. Instead, you'll convert the text into sequences of integers using the following preprocess methods:\n",
    "1. Tokenize the words into ids\n",
    "2. Add padding to make all the sequences the same length.\n",
    "\n",
    "Time to start preprocessing the data...\n",
    "### Tokenize (IMPLEMENTATION)\n",
    "For a neural network to predict on text data, it first has to be turned into data it can understand. Text data like \"dog\" is a sequence of ASCII character encodings.  Since a neural network is a series of multiplication and addition operations, the input data needs to be number(s).\n",
    "\n",
    "We can turn each character into a number or each word into a number.  These are called character and word ids, respectively.  Character ids are used for character level models that generate text predictions for each character.  A word level model uses word ids that generate text predictions for each word.  Word level models tend to learn better, since they are lower in complexity, so we'll use those.\n",
    "\n",
    "Turn each sentence into a sequence of words ids using Keras's [`Tokenizer`](https://keras.io/preprocessing/text/#tokenizer) function. Use this function to tokenize `english_sentences` and `french_sentences` in the cell below.\n",
    "\n",
    "Running the cell will run `tokenize` on sample data and show output for debugging."
   ]
  },
  {
   "cell_type": "code",
   "execution_count": 7,
   "metadata": {},
   "outputs": [
    {
     "name": "stdout",
     "output_type": "stream",
     "text": [
      "{'the': 1, 'quick': 2, 'a': 3, 'brown': 4, 'fox': 5, 'jumps': 6, 'over': 7, 'lazy': 8, 'dog': 9, 'by': 10, 'jove': 11, 'my': 12, 'study': 13, 'of': 14, 'lexicography': 15, 'won': 16, 'prize': 17, 'this': 18, 'is': 19, 'short': 20, 'sentence': 21}\n",
      "\n",
      "Sequence 1 in x\n",
      "  Input:  The quick brown fox jumps over the lazy dog .\n",
      "  Output: [1, 2, 4, 5, 6, 7, 1, 8, 9]\n",
      "Sequence 2 in x\n",
      "  Input:  By Jove , my quick study of lexicography won a prize .\n",
      "  Output: [10, 11, 12, 2, 13, 14, 15, 16, 3, 17]\n",
      "Sequence 3 in x\n",
      "  Input:  This is a short sentence .\n",
      "  Output: [18, 19, 3, 20, 21]\n"
     ]
    }
   ],
   "source": [
    "def tokenize(x):\n",
    "    \"\"\"\n",
    "    Tokenize x\n",
    "    :param x: List of sentences/strings to be tokenized\n",
    "    :return: Tuple of (tokenized x data, tokenizer used to tokenize x)\n",
    "    \"\"\"\n",
    "    # TODO: Implement\n",
    "    tokenizer = Tokenizer()\n",
    "    tokenizer.fit_on_texts(x)\n",
    "    \n",
    "    return tokenizer.texts_to_sequences(x), tokenizer\n",
    "\n",
    "tests.test_tokenize(tokenize)\n",
    "\n",
    "# Tokenize Example output\n",
    "text_sentences = [\n",
    "    'The quick brown fox jumps over the lazy dog .',\n",
    "    'By Jove , my quick study of lexicography won a prize .',\n",
    "    'This is a short sentence .']\n",
    "text_tokenized, text_tokenizer = tokenize(text_sentences)\n",
    "print(text_tokenizer.word_index)\n",
    "print()\n",
    "for sample_i, (sent, token_sent) in enumerate(zip(text_sentences, text_tokenized)):\n",
    "    print('Sequence {} in x'.format(sample_i + 1))\n",
    "    print('  Input:  {}'.format(sent))\n",
    "    print('  Output: {}'.format(token_sent))"
   ]
  },
  {
   "cell_type": "markdown",
   "metadata": {},
   "source": [
    "### Padding (IMPLEMENTATION)\n",
    "When batching the sequence of word ids together, each sequence needs to be the same length.  Since sentences are dynamic in length, we can add padding to the end of the sequences to make them the same length.\n",
    "\n",
    "Make sure all the English sequences have the same length and all the French sequences have the same length by adding padding to the **end** of each sequence using Keras's [`pad_sequences`](https://keras.io/preprocessing/sequence/#pad_sequences) function."
   ]
  },
  {
   "cell_type": "code",
   "execution_count": 8,
   "metadata": {},
   "outputs": [
    {
     "name": "stdout",
     "output_type": "stream",
     "text": [
      "Sequence 1 in x\n",
      "  Input:  [1 2 4 5 6 7 1 8 9]\n",
      "  Output: [1 2 4 5 6 7 1 8 9 0]\n",
      "Sequence 2 in x\n",
      "  Input:  [10 11 12  2 13 14 15 16  3 17]\n",
      "  Output: [10 11 12  2 13 14 15 16  3 17]\n",
      "Sequence 3 in x\n",
      "  Input:  [18 19  3 20 21]\n",
      "  Output: [18 19  3 20 21  0  0  0  0  0]\n"
     ]
    }
   ],
   "source": [
    "def pad(x, length=None):\n",
    "    \"\"\"\n",
    "    Pad x\n",
    "    :param x: List of sequences.\n",
    "    :param length: Length to pad the sequence to.  If None, use length of longest sequence in x.\n",
    "    :return: Padded numpy array of sequences\n",
    "    \"\"\"\n",
    "    # TODO: Implement\n",
    "    if length is None:\n",
    "        length = max([len(sentence) for sentence in x])\n",
    "    \n",
    "    return pad_sequences(x, maxlen=length, padding='post')\n",
    "tests.test_pad(pad)\n",
    "\n",
    "# Pad Tokenized output\n",
    "test_pad = pad(text_tokenized)\n",
    "for sample_i, (token_sent, pad_sent) in enumerate(zip(text_tokenized, test_pad)):\n",
    "    print('Sequence {} in x'.format(sample_i + 1))\n",
    "    print('  Input:  {}'.format(np.array(token_sent)))\n",
    "    print('  Output: {}'.format(pad_sent))"
   ]
  },
  {
   "cell_type": "markdown",
   "metadata": {},
   "source": [
    "### Preprocess Pipeline\n",
    "Your focus for this project is to build neural network architecture, so we won't ask you to create a preprocess pipeline.  Instead, we've provided you with the implementation of the `preprocess` function."
   ]
  },
  {
   "cell_type": "code",
   "execution_count": 9,
   "metadata": {},
   "outputs": [
    {
     "name": "stdout",
     "output_type": "stream",
     "text": [
      "Data Preprocessed\n",
      "Max English sentence length: 15\n",
      "Max French sentence length: 21\n",
      "English vocabulary size: 199\n",
      "French vocabulary size: 344\n"
     ]
    }
   ],
   "source": [
    "def preprocess(x, y):\n",
    "    \"\"\"\n",
    "    Preprocess x and y\n",
    "    :param x: Feature List of sentences\n",
    "    :param y: Label List of sentences\n",
    "    :return: Tuple of (Preprocessed x, Preprocessed y, x tokenizer, y tokenizer)\n",
    "    \"\"\"\n",
    "    preprocess_x, x_tk = tokenize(x)\n",
    "    preprocess_y, y_tk = tokenize(y)\n",
    "\n",
    "    preprocess_x = pad(preprocess_x)\n",
    "    preprocess_y = pad(preprocess_y)\n",
    "\n",
    "    # Keras's sparse_categorical_crossentropy function requires the labels to be in 3 dimensions\n",
    "    preprocess_y = preprocess_y.reshape(*preprocess_y.shape, 1)\n",
    "\n",
    "    return preprocess_x, preprocess_y, x_tk, y_tk\n",
    "\n",
    "preproc_english_sentences, preproc_french_sentences, english_tokenizer, french_tokenizer =\\\n",
    "    preprocess(english_sentences, french_sentences)\n",
    "    \n",
    "max_english_sequence_length = preproc_english_sentences.shape[1]\n",
    "max_french_sequence_length = preproc_french_sentences.shape[1]\n",
    "english_vocab_size = len(english_tokenizer.word_index)\n",
    "french_vocab_size = len(french_tokenizer.word_index)\n",
    "\n",
    "print('Data Preprocessed')\n",
    "print(\"Max English sentence length:\", max_english_sequence_length)\n",
    "print(\"Max French sentence length:\", max_french_sequence_length)\n",
    "print(\"English vocabulary size:\", english_vocab_size)\n",
    "print(\"French vocabulary size:\", french_vocab_size)"
   ]
  },
  {
   "cell_type": "markdown",
   "metadata": {},
   "source": [
    "## Models\n",
    "In this section, you will experiment with various neural network architectures.\n",
    "You will begin by training four relatively simple architectures.\n",
    "- Model 1 is a simple RNN\n",
    "- Model 2 is a RNN with Embedding\n",
    "- Model 3 is a Bidirectional RNN\n",
    "- Model 4 is an optional Encoder-Decoder RNN\n",
    "\n",
    "After experimenting with the four simple architectures, you will construct a deeper architecture that is designed to outperform all four models.\n",
    "### Ids Back to Text\n",
    "The neural network will be translating the input to words ids, which isn't the final form we want.  We want the French translation.  The function `logits_to_text` will bridge the gab between the logits from the neural network to the French translation.  You'll be using this function to better understand the output of the neural network."
   ]
  },
  {
   "cell_type": "code",
   "execution_count": 10,
   "metadata": {},
   "outputs": [
    {
     "name": "stdout",
     "output_type": "stream",
     "text": [
      "`logits_to_text` function loaded.\n"
     ]
    }
   ],
   "source": [
    "def logits_to_text(logits, tokenizer):\n",
    "    \"\"\"\n",
    "    Turn logits from a neural network into text using the tokenizer\n",
    "    :param logits: Logits from a neural network\n",
    "    :param tokenizer: Keras Tokenizer fit on the labels\n",
    "    :return: String that represents the text of the logits\n",
    "    \"\"\"\n",
    "    index_to_words = {id: word for word, id in tokenizer.word_index.items()}\n",
    "    index_to_words[0] = '<PAD>'\n",
    "\n",
    "    return ' '.join([index_to_words[prediction] for prediction in np.argmax(logits, 1)])\n",
    "\n",
    "print('`logits_to_text` function loaded.')"
   ]
  },
  {
   "cell_type": "markdown",
   "metadata": {},
   "source": [
    "### Model 1: RNN (IMPLEMENTATION)\n",
    "![RNN](images/rnn.png)\n",
    "A basic RNN model is a good baseline for sequence data.  In this model, you'll build a RNN that translates English to French."
   ]
  },
  {
   "cell_type": "code",
   "execution_count": 11,
   "metadata": {},
   "outputs": [
    {
     "name": "stdout",
     "output_type": "stream",
     "text": [
      "Train on 110288 samples, validate on 27573 samples\n",
      "Epoch 1/10\n",
      "110288/110288 [==============================] - 12s 106us/step - loss: 2.7208 - acc: 0.4616 - val_loss: nan - val_acc: 0.5344\n",
      "Epoch 2/10\n",
      "110288/110288 [==============================] - 10s 91us/step - loss: 1.7580 - acc: 0.5718 - val_loss: nan - val_acc: 0.5936\n",
      "Epoch 3/10\n",
      "110288/110288 [==============================] - 10s 91us/step - loss: 1.5097 - acc: 0.6041 - val_loss: nan - val_acc: 0.6121\n",
      "Epoch 4/10\n",
      "110288/110288 [==============================] - 10s 91us/step - loss: 1.3838 - acc: 0.6199 - val_loss: nan - val_acc: 0.6303\n",
      "Epoch 5/10\n",
      "110288/110288 [==============================] - 10s 91us/step - loss: 1.2952 - acc: 0.6362 - val_loss: nan - val_acc: 0.6409\n",
      "Epoch 6/10\n",
      "110288/110288 [==============================] - 10s 92us/step - loss: 1.2266 - acc: 0.6478 - val_loss: nan - val_acc: 0.6545\n",
      "Epoch 7/10\n",
      "110288/110288 [==============================] - 10s 91us/step - loss: 1.1723 - acc: 0.6581 - val_loss: nan - val_acc: 0.6616\n",
      "Epoch 8/10\n",
      "110288/110288 [==============================] - 10s 92us/step - loss: 1.1310 - acc: 0.6640 - val_loss: nan - val_acc: 0.6645\n",
      "Epoch 9/10\n",
      "110288/110288 [==============================] - 10s 92us/step - loss: 1.0954 - acc: 0.6688 - val_loss: nan - val_acc: 0.6697\n",
      "Epoch 10/10\n",
      "110288/110288 [==============================] - 10s 91us/step - loss: 1.0668 - acc: 0.6725 - val_loss: nan - val_acc: 0.6782\n",
      "new jersey est parfois calme en l' de il il il est en en <PAD> <PAD> <PAD> <PAD> <PAD> <PAD> <PAD>\n"
     ]
    }
   ],
   "source": [
    "def simple_model(input_shape, output_sequence_length, english_vocab_size, french_vocab_size):\n",
    "    \"\"\"\n",
    "    Build and train a basic RNN on x and y\n",
    "    :param input_shape: Tuple of input shape\n",
    "    :param output_sequence_length: Length of output sequence\n",
    "    :param english_vocab_size: Number of unique English words in the dataset\n",
    "    :param french_vocab_size: Number of unique French words in the dataset\n",
    "    :return: Keras model built, but not trained\n",
    "    \"\"\"\n",
    "    # TODO: Build the layers\n",
    "    learning_rate = 1e-3\n",
    "    \n",
    "    input_seq = Input(shape=input_shape[1:])\n",
    "    rnn = GRU(units=english_vocab_size, return_sequences=True, name=\"rnn\")(input_seq)\n",
    "    \n",
    "    logits = TimeDistributed(Dense(french_vocab_size))(rnn)\n",
    "    \n",
    "    model = Model(input_seq, Activation('softmax')(logits))\n",
    "    \n",
    "    model.compile(loss=sparse_categorical_crossentropy,\n",
    "                  optimizer=Adam(learning_rate),\n",
    "                  metrics=['accuracy'])\n",
    "    return model\n",
    "tests.test_simple_model(simple_model)\n",
    "\n",
    "# Reshaping the input to work with a basic RNN\n",
    "tmp_x = pad(preproc_english_sentences, max_french_sequence_length)\n",
    "tmp_x = tmp_x.reshape((-1, preproc_french_sentences.shape[-2], 1))\n",
    "\n",
    "# Train the neural network\n",
    "simple_rnn_model = simple_model(\n",
    "    tmp_x.shape,\n",
    "    max_french_sequence_length,\n",
    "    english_vocab_size,\n",
    "    french_vocab_size)\n",
    "simple_rnn_model.fit(tmp_x, preproc_french_sentences, batch_size=1024, epochs=10, validation_split=0.2)\n",
    "\n",
    "# Print prediction(s)\n",
    "print(logits_to_text(simple_rnn_model.predict(tmp_x[:1])[0], french_tokenizer))"
   ]
  },
  {
   "cell_type": "markdown",
   "metadata": {},
   "source": [
    "### Model 2: Embedding (IMPLEMENTATION)\n",
    "![RNN](images/embedding.png)\n",
    "You've turned the words into ids, but there's a better representation of a word.  This is called word embeddings.  An embedding is a vector representation of the word that is close to similar words in n-dimensional space, where the n represents the size of the embedding vectors.\n",
    "\n",
    "In this model, you'll create a RNN model using embedding."
   ]
  },
  {
   "cell_type": "code",
   "execution_count": 12,
   "metadata": {},
   "outputs": [
    {
     "name": "stdout",
     "output_type": "stream",
     "text": [
      "_________________________________________________________________\n",
      "Layer (type)                 Output Shape              Param #   \n",
      "=================================================================\n",
      "input_3 (InputLayer)         (None, 21)                0         \n",
      "_________________________________________________________________\n",
      "embedding_1 (Embedding)      (None, 21, 128)           25472     \n",
      "_________________________________________________________________\n",
      "rnn (GRU)                    (None, 21, 256)           295680    \n",
      "_________________________________________________________________\n",
      "time_distributed_3 (TimeDist (None, 21, 344)           88408     \n",
      "_________________________________________________________________\n",
      "activation_3 (Activation)    (None, 21, 344)           0         \n",
      "=================================================================\n",
      "Total params: 409,560\n",
      "Trainable params: 409,560\n",
      "Non-trainable params: 0\n",
      "_________________________________________________________________\n",
      "None\n",
      "Debug tmp_x shape= (137861, 21)\n",
      "_________________________________________________________________\n",
      "Layer (type)                 Output Shape              Param #   \n",
      "=================================================================\n",
      "input_4 (InputLayer)         (None, 21)                0         \n",
      "_________________________________________________________________\n",
      "embedding_2 (Embedding)      (None, 21, 128)           25600     \n",
      "_________________________________________________________________\n",
      "rnn (GRU)                    (None, 21, 256)           295680    \n",
      "_________________________________________________________________\n",
      "time_distributed_4 (TimeDist (None, 21, 345)           88665     \n",
      "_________________________________________________________________\n",
      "activation_4 (Activation)    (None, 21, 345)           0         \n",
      "=================================================================\n",
      "Total params: 409,945\n",
      "Trainable params: 409,945\n",
      "Non-trainable params: 0\n",
      "_________________________________________________________________\n",
      "None\n",
      "Train on 110288 samples, validate on 27573 samples\n",
      "Epoch 1/10\n",
      "110288/110288 [==============================] - 13s 119us/step - loss: 3.1804 - acc: 0.4213 - val_loss: 2.4739 - val_acc: 0.4884\n",
      "Epoch 2/10\n",
      "110288/110288 [==============================] - 13s 115us/step - loss: 1.9154 - acc: 0.5672 - val_loss: 1.4448 - val_acc: 0.6494\n",
      "Epoch 3/10\n",
      "110288/110288 [==============================] - 13s 115us/step - loss: 1.2229 - acc: 0.7052 - val_loss: 1.0181 - val_acc: 0.7538\n",
      "Epoch 4/10\n",
      "110288/110288 [==============================] - 13s 115us/step - loss: 0.8682 - acc: 0.7787 - val_loss: 0.7318 - val_acc: 0.8048\n",
      "Epoch 5/10\n",
      "110288/110288 [==============================] - 13s 115us/step - loss: 0.6465 - acc: 0.8216 - val_loss: 0.5670 - val_acc: 0.8369\n",
      "Epoch 6/10\n",
      "110288/110288 [==============================] - 13s 116us/step - loss: 0.5195 - acc: 0.8482 - val_loss: 0.4732 - val_acc: 0.8605\n",
      "Epoch 7/10\n",
      "110288/110288 [==============================] - 13s 116us/step - loss: 0.4367 - acc: 0.8696 - val_loss: 0.4058 - val_acc: 0.8777\n",
      "Epoch 8/10\n",
      "110288/110288 [==============================] - 13s 116us/step - loss: 0.3838 - acc: 0.8832 - val_loss: 0.3737 - val_acc: 0.8861\n",
      "Epoch 9/10\n",
      "110288/110288 [==============================] - 13s 116us/step - loss: 0.3446 - acc: 0.8936 - val_loss: 0.3298 - val_acc: 0.8978\n",
      "Epoch 10/10\n",
      "110288/110288 [==============================] - 13s 116us/step - loss: 0.3197 - acc: 0.8997 - val_loss: 0.3061 - val_acc: 0.9047\n",
      "new jersey est parfois calme en l' automne l' il neigeux neigeux avril avril <PAD> <PAD> <PAD> <PAD> <PAD> <PAD> <PAD>\n"
     ]
    }
   ],
   "source": [
    "def embed_model(input_shape, output_sequence_length, english_vocab_size, french_vocab_size):\n",
    "    \"\"\"\n",
    "    Build and train a RNN model using word embedding on x and y\n",
    "    :param input_shape: Tuple of input shape\n",
    "    :param output_sequence_length: Length of output sequence\n",
    "    :param english_vocab_size: Number of unique English words in the dataset\n",
    "    :param french_vocab_size: Number of unique French words in the dataset\n",
    "    :return: Keras model built, but not trained\n",
    "    \"\"\"\n",
    "    # TODO: Implement\n",
    "    embedding_size = 128\n",
    "    rnn_cells = 256\n",
    "    dropout = 0.\n",
    "    learning_rate = 1e-3\n",
    "    \n",
    "    # model\n",
    "    input_seq = Input(input_shape[1:])\n",
    "    embedding_layer = Embedding(input_dim=english_vocab_size,\n",
    "                                output_dim=embedding_size,\n",
    "                                input_length=input_shape[1:][0])(input_seq)\n",
    "    \n",
    "    rnn = GRU(units=rnn_cells, dropout=dropout, return_sequences=True, name=\"rnn\")(embedding_layer)\n",
    "    \n",
    "    logits = TimeDistributed(Dense(units=french_vocab_size))(rnn) \n",
    "    model = Model(input_seq, Activation('softmax')(logits))\n",
    "\n",
    "    model.compile(loss=sparse_categorical_crossentropy,\n",
    "                  optimizer=Adam(lr=learning_rate),\n",
    "                  metrics=['accuracy'])\n",
    "    \n",
    "    return model\n",
    "\n",
    "tests.test_embed_model(embed_model)\n",
    "\n",
    "# TODO: Reshape the input\n",
    "tmp_x = pad(preproc_english_sentences, max_french_sequence_length)\n",
    "print(\"Debug tmp_x shape=\", tmp_x.shape )\n",
    "\n",
    "# TODO: Train the neural network\n",
    "embed_rnn_model = embed_model(input_shape = tmp_x.shape,\n",
    "                              output_sequence_length = max_french_sequence_length,\n",
    "                              english_vocab_size = english_vocab_size+1,\n",
    "                              french_vocab_size = french_vocab_size+1)\n",
    "\n",
    "\n",
    "embed_rnn_model.fit(tmp_x, preproc_french_sentences, batch_size=1024, epochs=10, validation_split=0.2)\n",
    "\n",
    "# TODO: Print prediction(s)\n",
    "print(logits_to_text(embed_rnn_model.predict(tmp_x[:1])[0], french_tokenizer))"
   ]
  },
  {
   "cell_type": "markdown",
   "metadata": {},
   "source": [
    "### Model 3: Bidirectional RNNs (IMPLEMENTATION)\n",
    "![RNN](images/bidirectional.png)\n",
    "One restriction of a RNN is that it can't see the future input, only the past.  This is where bidirectional recurrent neural networks come in.  They are able to see the future data."
   ]
  },
  {
   "cell_type": "code",
   "execution_count": 13,
   "metadata": {},
   "outputs": [
    {
     "name": "stdout",
     "output_type": "stream",
     "text": [
      "Train on 110288 samples, validate on 27573 samples\n",
      "Epoch 1/10\n",
      "110288/110288 [==============================] - 17s 154us/step - loss: 2.2710 - acc: 0.5350 - val_loss: 1.5546 - val_acc: 0.6039\n",
      "Epoch 2/10\n",
      "110288/110288 [==============================] - 16s 148us/step - loss: 1.4227 - acc: 0.6193 - val_loss: 1.3236 - val_acc: 0.6381\n",
      "Epoch 3/10\n",
      "110288/110288 [==============================] - 16s 148us/step - loss: 1.2628 - acc: 0.6450 - val_loss: 1.2100 - val_acc: 0.6572\n",
      "Epoch 4/10\n",
      "110288/110288 [==============================] - 16s 148us/step - loss: 1.1711 - acc: 0.6639 - val_loss: 1.1352 - val_acc: 0.6710\n",
      "Epoch 5/10\n",
      "110288/110288 [==============================] - 16s 148us/step - loss: 1.1046 - acc: 0.6758 - val_loss: 1.0749 - val_acc: 0.6836\n",
      "Epoch 6/10\n",
      "110288/110288 [==============================] - 16s 149us/step - loss: 1.0493 - acc: 0.6863 - val_loss: 1.0253 - val_acc: 0.6920\n",
      "Epoch 7/10\n",
      "110288/110288 [==============================] - 16s 148us/step - loss: 1.0056 - acc: 0.6926 - val_loss: 0.9836 - val_acc: 0.6966\n",
      "Epoch 8/10\n",
      "110288/110288 [==============================] - 16s 148us/step - loss: 0.9651 - acc: 0.6989 - val_loss: 0.9471 - val_acc: 0.7011\n",
      "Epoch 9/10\n",
      "110288/110288 [==============================] - 16s 148us/step - loss: 0.9414 - acc: 0.7018 - val_loss: 0.9318 - val_acc: 0.7035\n",
      "Epoch 10/10\n",
      "110288/110288 [==============================] - 16s 149us/step - loss: 0.9116 - acc: 0.7064 - val_loss: 0.8963 - val_acc: 0.7118\n",
      "new jersey est parfois calme en mois de il il il est en <PAD> <PAD> <PAD> <PAD> <PAD> <PAD> <PAD> <PAD>\n"
     ]
    }
   ],
   "source": [
    "def bd_model(input_shape, output_sequence_length, english_vocab_size, french_vocab_size):\n",
    "    \"\"\"\n",
    "    Build and train a bidirectional RNN model on x and y\n",
    "    :param input_shape: Tuple of input shape\n",
    "    :param output_sequence_length: Length of output sequence\n",
    "    :param english_vocab_size: Number of unique English words in the dataset\n",
    "    :param french_vocab_size: Number of unique French words in the dataset\n",
    "    :return: Keras model built, but not trained\n",
    "    \"\"\"\n",
    "    # TODO: Implement\n",
    "    dropout = 0.0\n",
    "    learning_rate = 1e-3\n",
    "    \n",
    "    input_seq = Input(shape=input_shape[1:])\n",
    "    bi_rnn = Bidirectional(GRU(english_vocab_size, dropout=dropout, return_sequences=True))(input_seq)\n",
    "    logits = TimeDistributed(Dense(units=french_vocab_size))(bi_rnn)\n",
    "    \n",
    "    model = Model(input_seq, Activation('softmax')(logits))\n",
    "\n",
    "    model.compile(loss=sparse_categorical_crossentropy,\n",
    "                  optimizer=Adam(lr=learning_rate),\n",
    "                  metrics=['accuracy'])\n",
    "    \n",
    "    return model\n",
    "tests.test_bd_model(bd_model)\n",
    "\n",
    "\n",
    "# TODO: Train and Print prediction(s)\n",
    "\n",
    "tmp_x = pad(preproc_english_sentences, max_french_sequence_length)\n",
    "tmp_x = tmp_x.reshape((-1, preproc_french_sentences.shape[-2], 1))\n",
    "#print(\"Debug tmp_x shape=\", tmp_x.shape )\n",
    "\n",
    "# Train the neural network \n",
    "bd_rnn_model = bd_model(input_shape = tmp_x.shape,\n",
    "                           output_sequence_length = max_french_sequence_length,\n",
    "                           english_vocab_size = english_vocab_size+1,\n",
    "                           french_vocab_size = french_vocab_size+1)\n",
    "\n",
    "#print(model.summary())\n",
    "\n",
    "bd_rnn_model.fit(tmp_x, preproc_french_sentences, batch_size=1024, epochs=10, validation_split=0.2)\n",
    "\n",
    "# Print prediction(s)\n",
    "print(logits_to_text(bd_rnn_model.predict(tmp_x[:1])[0], french_tokenizer))"
   ]
  },
  {
   "cell_type": "markdown",
   "metadata": {},
   "source": [
    "### Model 4: Encoder-Decoder (OPTIONAL)\n",
    "Time to look at encoder-decoder models.  This model is made up of an encoder and decoder. The encoder creates a matrix representation of the sentence.  The decoder takes this matrix as input and predicts the translation as output.\n",
    "\n",
    "Create an encoder-decoder model in the cell below."
   ]
  },
  {
   "cell_type": "code",
   "execution_count": 14,
   "metadata": {},
   "outputs": [
    {
     "name": "stdout",
     "output_type": "stream",
     "text": [
      "Train on 110288 samples, validate on 27573 samples\n",
      "Epoch 1/10\n",
      "110288/110288 [==============================] - 20s 185us/step - loss: 2.7648 - acc: 0.4663 - val_loss: 2.1467 - val_acc: 0.5132\n",
      "Epoch 2/10\n",
      "110288/110288 [==============================] - 20s 178us/step - loss: 1.8700 - acc: 0.5498 - val_loss: 1.6346 - val_acc: 0.5737\n",
      "Epoch 3/10\n",
      "110288/110288 [==============================] - 20s 178us/step - loss: 1.5694 - acc: 0.5805 - val_loss: 1.4933 - val_acc: 0.5948\n",
      "Epoch 4/10\n",
      "110288/110288 [==============================] - 20s 179us/step - loss: 1.4426 - acc: 0.6040 - val_loss: 1.3885 - val_acc: 0.6139\n",
      "Epoch 5/10\n",
      "110288/110288 [==============================] - 20s 179us/step - loss: 1.3474 - acc: 0.6240 - val_loss: 1.3054 - val_acc: 0.6298\n",
      "Epoch 6/10\n",
      "110288/110288 [==============================] - 20s 179us/step - loss: 1.2876 - acc: 0.6324 - val_loss: 1.2549 - val_acc: 0.6368\n",
      "Epoch 7/10\n",
      "110288/110288 [==============================] - 20s 179us/step - loss: 1.2373 - acc: 0.6381 - val_loss: 1.2197 - val_acc: 0.6409\n",
      "Epoch 8/10\n",
      "110288/110288 [==============================] - 20s 179us/step - loss: 1.1996 - acc: 0.6436 - val_loss: 1.1799 - val_acc: 0.6471\n",
      "Epoch 9/10\n",
      "110288/110288 [==============================] - 20s 179us/step - loss: 1.1701 - acc: 0.6483 - val_loss: 1.1454 - val_acc: 0.6549\n",
      "Epoch 10/10\n",
      "110288/110288 [==============================] - 20s 179us/step - loss: 1.1303 - acc: 0.6548 - val_loss: 1.1330 - val_acc: 0.6532\n",
      "new jersey est parfois chaud en l' et il est il en en <PAD> <PAD> <PAD> <PAD> <PAD> <PAD> <PAD> <PAD>\n"
     ]
    }
   ],
   "source": [
    "def encdec_model(input_shape, output_sequence_length, english_vocab_size, french_vocab_size):\n",
    "    \"\"\"\n",
    "    Build and train an encoder-decoder model on x and y\n",
    "    :param input_shape: Tuple of input shape\n",
    "    :param output_sequence_length: Length of output sequence\n",
    "    :param english_vocab_size: Number of unique English words in the dataset\n",
    "    :param french_vocab_size: Number of unique French words in the dataset\n",
    "    :return: Keras model built, but not trained\n",
    "    \"\"\"\n",
    "    # OPTIONAL: Implement\n",
    "    embedding_size = 128\n",
    "    rnn_cells = 256\n",
    "    dropout = 0.0\n",
    "    learning_rate = 1e-3\n",
    "    \n",
    "    # encoder\n",
    "    encoder_input_seq = Input(input_shape[1:], name='encoder_input')\n",
    "    encoder_output, state_t = GRU(units=rnn_cells,\n",
    "                                  dropout=dropout,\n",
    "                                  return_sequences=False,\n",
    "                                  return_state=True,\n",
    "                                  name=\"encoder_rnn\")(encoder_input_seq)\n",
    "    \n",
    "    # decoder\n",
    "    decoder_input_seq = RepeatVector(output_sequence_length)(encoder_output)\n",
    "    decoder_out = GRU(units=rnn_cells,\n",
    "                      dropout=dropout,\n",
    "                      return_sequences=True,\n",
    "                      return_state=False)(decoder_input_seq, initial_state=state_t)\n",
    "    \n",
    "    # Decoder output \n",
    "    logits = TimeDistributed(Dense(units=french_vocab_size))(decoder_out) \n",
    "    \n",
    "    # Model\n",
    "    model = Model(encoder_input_seq, Activation('softmax')(logits))\n",
    "    model.compile(loss=sparse_categorical_crossentropy,\n",
    "                  optimizer=Adam(lr=learning_rate),\n",
    "                  metrics=['accuracy'])\n",
    "     \n",
    "    return model    \n",
    "\n",
    "tests.test_encdec_model(encdec_model)\n",
    "\n",
    "\n",
    "# OPTIONAL: Train and Print prediction(s)\n",
    "\n",
    "tmp_x = pad(preproc_english_sentences, max_french_sequence_length)\n",
    "tmp_x = tmp_x.reshape((-1, preproc_french_sentences.shape[-2], 1))\n",
    "\n",
    "# Train the neural network \n",
    "encdec_rnn_model = encdec_model(input_shape = tmp_x.shape,\n",
    "                                output_sequence_length = max_french_sequence_length,\n",
    "                                english_vocab_size = english_vocab_size+1,\n",
    "                                french_vocab_size = french_vocab_size+1)\n",
    "    \n",
    "\n",
    "encdec_rnn_model.fit(tmp_x, preproc_french_sentences, batch_size=1024, epochs=10, validation_split=0.2)\n",
    "\n",
    "# Print prediction(s)\n",
    "print(logits_to_text(encdec_rnn_model.predict(tmp_x[:1])[0], french_tokenizer))"
   ]
  },
  {
   "cell_type": "markdown",
   "metadata": {},
   "source": [
    "### Model 5: Custom (IMPLEMENTATION)\n",
    "Use everything you learned from the previous models to create a model that incorporates embedding and a bidirectional rnn into one model."
   ]
  },
  {
   "cell_type": "code",
   "execution_count": 22,
   "metadata": {},
   "outputs": [
    {
     "name": "stdout",
     "output_type": "stream",
     "text": [
      "Final Model Loaded\n",
      "__________________________________________________________________________________________________\n",
      "Layer (type)                    Output Shape         Param #     Connected to                     \n",
      "==================================================================================================\n",
      "input_15 (InputLayer)           (None, 21)           0                                            \n",
      "__________________________________________________________________________________________________\n",
      "embedding_11 (Embedding)        (None, 21, 300)      59700       input_15[0][0]                   \n",
      "__________________________________________________________________________________________________\n",
      "lstm_11 (LSTM)                  [(None, 256), (None, 570368      embedding_11[0][0]               \n",
      "__________________________________________________________________________________________________\n",
      "lstm_12 (LSTM)                  [(None, 256), (None, 570368      embedding_11[0][0]               \n",
      "__________________________________________________________________________________________________\n",
      "concatenate_12 (Concatenate)    (None, 512)          0           lstm_11[0][0]                    \n",
      "                                                                 lstm_12[0][0]                    \n",
      "__________________________________________________________________________________________________\n",
      "repeat_vector_7 (RepeatVector)  (None, 21, 512)      0           concatenate_12[0][0]             \n",
      "__________________________________________________________________________________________________\n",
      "concatenate_10 (Concatenate)    (None, 512)          0           lstm_11[0][1]                    \n",
      "                                                                 lstm_12[0][1]                    \n",
      "__________________________________________________________________________________________________\n",
      "concatenate_11 (Concatenate)    (None, 512)          0           lstm_11[0][2]                    \n",
      "                                                                 lstm_12[0][2]                    \n",
      "__________________________________________________________________________________________________\n",
      "lstm_13 (LSTM)                  (None, 21, 512)      2099200     repeat_vector_7[0][0]            \n",
      "                                                                 concatenate_10[0][0]             \n",
      "                                                                 concatenate_11[0][0]             \n",
      "__________________________________________________________________________________________________\n",
      "time_distributed_10 (TimeDistri (None, 21, 344)      176472      lstm_13[0][0]                    \n",
      "__________________________________________________________________________________________________\n",
      "activation_10 (Activation)      (None, 21, 344)      0           time_distributed_10[0][0]        \n",
      "==================================================================================================\n",
      "Total params: 3,476,108\n",
      "Trainable params: 3,476,108\n",
      "Non-trainable params: 0\n",
      "__________________________________________________________________________________________________\n",
      "None\n",
      "Train on 110288 samples, validate on 27573 samples\n",
      "Epoch 1/10\n",
      "110288/110288 [==============================] - 57s 517us/step - loss: 2.7052 - acc: 0.4661 - val_loss: nan - val_acc: 0.5550\n",
      "Epoch 2/10\n",
      "110288/110288 [==============================] - 55s 500us/step - loss: 1.5305 - acc: 0.6019 - val_loss: nan - val_acc: 0.6458\n",
      "Epoch 3/10\n",
      "110288/110288 [==============================] - 55s 501us/step - loss: 1.1903 - acc: 0.6772 - val_loss: nan - val_acc: 0.6918\n",
      "Epoch 4/10\n",
      "110288/110288 [==============================] - 55s 500us/step - loss: 0.9669 - acc: 0.7258 - val_loss: nan - val_acc: 0.7332\n",
      "Epoch 5/10\n",
      "110288/110288 [==============================] - 55s 501us/step - loss: 0.7923 - acc: 0.7687 - val_loss: nan - val_acc: 0.7817\n",
      "Epoch 6/10\n",
      "110288/110288 [==============================] - 55s 501us/step - loss: 0.6368 - acc: 0.8125 - val_loss: nan - val_acc: 0.8365\n",
      "Epoch 7/10\n",
      "110288/110288 [==============================] - 55s 501us/step - loss: 0.5004 - acc: 0.8532 - val_loss: nan - val_acc: 0.8724\n",
      "Epoch 8/10\n",
      "110288/110288 [==============================] - 55s 500us/step - loss: 0.3767 - acc: 0.8918 - val_loss: nan - val_acc: 0.9084\n",
      "Epoch 9/10\n",
      "110288/110288 [==============================] - 55s 501us/step - loss: 0.2901 - acc: 0.9195 - val_loss: nan - val_acc: 0.9326\n",
      "Epoch 10/10\n",
      "110288/110288 [==============================] - 55s 500us/step - loss: 0.2186 - acc: 0.9400 - val_loss: nan - val_acc: 0.9441\n",
      "new jersey est parfois calme à cours automne l' est et neigeux en <PAD> <PAD> <PAD> <PAD> <PAD> <PAD> <PAD> <PAD>\n"
     ]
    }
   ],
   "source": [
    "def model_final(input_shape, output_sequence_length, english_vocab_size, french_vocab_size):\n",
    "    \"\"\"\n",
    "    Build and train a model that incorporates embedding, encoder-decoder, and bidirectional RNN on x and y\n",
    "    :param input_shape: Tuple of input shape\n",
    "    :param output_sequence_length: Length of output sequence\n",
    "    :param english_vocab_size: Number of unique English words in the dataset\n",
    "    :param french_vocab_size: Number of unique French words in the dataset\n",
    "    :return: Keras model built, but not trained\n",
    "    \"\"\"\n",
    "    \n",
    "    # TODO: Train the final model\n",
    "    #print(\"Debug input_shape =\" , input_shape, \"  input_shape[1:] =\", input_shape[1:], \"  Input length=\", input_shape[1:][0])\n",
    "    #print(\"Debug output_sequence_length =\" , output_sequence_length) \n",
    "    #print(\"Debug english_vocab_size =\" , english_vocab_size)\n",
    "    #print(\"Debug french_vocab_size =\" , french_vocab_size)\n",
    "    \n",
    "    \n",
    "    ## Model_final is a seq2seq model (encoder-decoder) using embedding and bidirectional LSTM\n",
    "    \n",
    "    # Hyperparameters\n",
    "    embedding_size = 300\n",
    "    rnn_cells = 256\n",
    "    dropout = 0.4\n",
    "    learning_rate = 1e-3\n",
    "    \n",
    "    from keras.layers import LSTM, concatenate\n",
    "    \n",
    "    \n",
    "    #Encoder\n",
    "    encoder_input_seq = Input(shape=input_shape[1:])\n",
    "    encoder_embedding=Embedding(\n",
    "        input_dim=english_vocab_size, \n",
    "        output_dim=embedding_size,\n",
    "        input_length=input_shape[1:][0])(encoder_input_seq)\n",
    "    \n",
    "    forward_encoder_output, forward_state_h, forward_state_c = LSTM(units=rnn_cells, \n",
    "                                                                    return_sequences=False,\n",
    "                                                                    return_state=True, \n",
    "                                                                    go_backwards=False)(encoder_embedding)\n",
    "    \n",
    "    backward_encoder_output, backward_state_h, backward_state_c = LSTM(units=rnn_cells, \n",
    "                                                                       return_sequences=False,\n",
    "                                                                       return_state=True, \n",
    "                                                                       go_backwards=True)(encoder_embedding)\n",
    "        \n",
    "    #Decoder  \n",
    "    state_h = concatenate([forward_state_h, backward_state_h])\n",
    "    state_c = concatenate([forward_state_c, backward_state_c])\n",
    "    encoder_output = concatenate([forward_encoder_output, backward_encoder_output])\n",
    "    \n",
    "    decoder_input_seq = RepeatVector(output_sequence_length)(encoder_output)\n",
    "    decoder_out = LSTM(units=rnn_cells*2,\n",
    "                      return_sequences=True,\n",
    "                      return_state=False)(decoder_input_seq, initial_state=[state_h, state_c])\n",
    "    \n",
    "    logits = TimeDistributed(Dense(units=french_vocab_size))(decoder_out) \n",
    "    \n",
    "    #Model\n",
    "    model = Model(encoder_input_seq, Activation('softmax')(logits))\n",
    "    model.compile(loss=sparse_categorical_crossentropy,\n",
    "                  optimizer=Adam(lr=learning_rate),\n",
    "                  metrics=['accuracy'])\n",
    "     \n",
    "    return model    \n",
    "tests.test_model_final(model_final)\n",
    "\n",
    "\n",
    "print('Final Model Loaded')\n",
    "tmp_x = pad(preproc_english_sentences, max_french_sequence_length)\n",
    "#tmp_x = tmp_x.reshape((-1, preproc_french_sentences.shape[-2], 1))\n",
    "\n",
    "final_model = model_final(\n",
    "    tmp_x.shape,\n",
    "    max_french_sequence_length,\n",
    "    english_vocab_size,\n",
    "    french_vocab_size)\n",
    "print(final_model.summary())\n",
    "final_model.fit(tmp_x, preproc_french_sentences, batch_size=1024, epochs=10, validation_split=0.2)\n",
    "\n",
    "print(logits_to_text(final_model.predict(tmp_x[:1])[0], french_tokenizer))"
   ]
  },
  {
   "cell_type": "markdown",
   "metadata": {},
   "source": [
    "## Prediction (IMPLEMENTATION)"
   ]
  },
  {
   "cell_type": "code",
   "execution_count": 23,
   "metadata": {},
   "outputs": [
    {
     "name": "stdout",
     "output_type": "stream",
     "text": [
      "Train on 110288 samples, validate on 27573 samples\n",
      "Epoch 1/20\n",
      "110288/110288 [==============================] - 50s 456us/step - loss: 2.5332 - acc: 0.4841 - val_loss: 1.6776 - val_acc: 0.5776\n",
      "Epoch 2/20\n",
      "110288/110288 [==============================] - 49s 443us/step - loss: 1.4176 - acc: 0.6240 - val_loss: 1.2142 - val_acc: 0.6685\n",
      "Epoch 3/20\n",
      "110288/110288 [==============================] - 49s 444us/step - loss: 1.0984 - acc: 0.6959 - val_loss: 0.9768 - val_acc: 0.7231\n",
      "Epoch 4/20\n",
      "110288/110288 [==============================] - 49s 444us/step - loss: 0.9141 - acc: 0.7357 - val_loss: 0.8315 - val_acc: 0.7549\n",
      "Epoch 5/20\n",
      "110288/110288 [==============================] - 49s 445us/step - loss: 0.7818 - acc: 0.7672 - val_loss: 0.7067 - val_acc: 0.7881\n",
      "Epoch 6/20\n",
      "110288/110288 [==============================] - 49s 443us/step - loss: 0.6637 - acc: 0.7986 - val_loss: 0.6152 - val_acc: 0.8121\n",
      "Epoch 7/20\n",
      "110288/110288 [==============================] - 49s 444us/step - loss: 0.5540 - acc: 0.8318 - val_loss: 0.5027 - val_acc: 0.8478\n",
      "Epoch 8/20\n",
      "110288/110288 [==============================] - 49s 444us/step - loss: 0.4492 - acc: 0.8645 - val_loss: 0.4039 - val_acc: 0.8793\n",
      "Epoch 9/20\n",
      "110288/110288 [==============================] - 49s 445us/step - loss: 0.3488 - acc: 0.8978 - val_loss: 0.3103 - val_acc: 0.9120\n",
      "Epoch 10/20\n",
      "110288/110288 [==============================] - 49s 444us/step - loss: 0.2742 - acc: 0.9224 - val_loss: 0.2598 - val_acc: 0.9268\n",
      "Epoch 11/20\n",
      "110288/110288 [==============================] - 49s 444us/step - loss: 0.2341 - acc: 0.9336 - val_loss: 0.2865 - val_acc: 0.9103\n",
      "Epoch 12/20\n",
      "110288/110288 [==============================] - 49s 444us/step - loss: 0.1972 - acc: 0.9435 - val_loss: 0.1868 - val_acc: 0.9463\n",
      "Epoch 13/20\n",
      "110288/110288 [==============================] - 49s 444us/step - loss: 0.1605 - acc: 0.9540 - val_loss: 0.1609 - val_acc: 0.9527\n",
      "Epoch 14/20\n",
      "110288/110288 [==============================] - 49s 444us/step - loss: 0.1412 - acc: 0.9590 - val_loss: 0.1399 - val_acc: 0.9592\n",
      "Epoch 15/20\n",
      "110288/110288 [==============================] - 49s 444us/step - loss: 0.1220 - acc: 0.9647 - val_loss: 0.1325 - val_acc: 0.9605\n",
      "Epoch 16/20\n",
      "110288/110288 [==============================] - 49s 444us/step - loss: 0.1066 - acc: 0.9688 - val_loss: 0.1276 - val_acc: 0.9622\n",
      "Epoch 17/20\n",
      "110288/110288 [==============================] - 49s 444us/step - loss: 0.1029 - acc: 0.9695 - val_loss: 0.1113 - val_acc: 0.9665\n",
      "Epoch 18/20\n",
      "110288/110288 [==============================] - 49s 444us/step - loss: 0.0892 - acc: 0.9737 - val_loss: 0.1050 - val_acc: 0.9690\n",
      "Epoch 19/20\n",
      "110288/110288 [==============================] - 49s 445us/step - loss: 0.0842 - acc: 0.9751 - val_loss: 0.0995 - val_acc: 0.9702\n",
      "Epoch 20/20\n",
      "110288/110288 [==============================] - 49s 444us/step - loss: 0.0790 - acc: 0.9765 - val_loss: 0.0924 - val_acc: 0.9723\n",
      "Sample 1:\n",
      "il a vu un vieux camion jaune <PAD> <PAD> <PAD> <PAD> <PAD> <PAD> <PAD> <PAD> <PAD> <PAD> <PAD> <PAD> <PAD> <PAD>\n",
      "Il a vu un vieux camion jaune\n",
      "Sample 2:\n",
      "new jersey est parfois calme pendant l' automne et il est neigeux en avril <PAD> <PAD> <PAD> <PAD> <PAD> <PAD> <PAD>\n",
      "new jersey est parfois calme pendant l' automne et il est neigeux en avril <PAD> <PAD> <PAD> <PAD> <PAD> <PAD> <PAD>\n"
     ]
    }
   ],
   "source": [
    "def final_predictions(x, y, x_tk, y_tk):\n",
    "    \"\"\"\n",
    "    Gets predictions using the final model\n",
    "    :param x: Preprocessed English data\n",
    "    :param y: Preprocessed French data\n",
    "    :param x_tk: English tokenizer\n",
    "    :param y_tk: French tokenizer\n",
    "    \"\"\"\n",
    "    # TODO: Train neural network using model_final\n",
    "    model = model_final(input_shape = x.shape,\n",
    "                        output_sequence_length = y.shape[1],\n",
    "                        english_vocab_size = len(x_tk.word_index)+1,\n",
    "                        french_vocab_size = len(y_tk.word_index)+1)\n",
    "\n",
    "    model.fit(x, y, batch_size=1024, epochs=20, validation_split=0.2)\n",
    "\n",
    "    \n",
    "    ## DON'T EDIT ANYTHING BELOW THIS LINE\n",
    "    y_id_to_word = {value: key for key, value in y_tk.word_index.items()}\n",
    "    y_id_to_word[0] = '<PAD>'\n",
    "\n",
    "    sentence = 'he saw a old yellow truck'\n",
    "    sentence = [x_tk.word_index[word] for word in sentence.split()]\n",
    "    sentence = pad_sequences([sentence], maxlen=x.shape[-1], padding='post')\n",
    "    sentences = np.array([sentence[0], x[0]])\n",
    "    predictions = model.predict(sentences, len(sentences))\n",
    "\n",
    "    print('Sample 1:')\n",
    "    print(' '.join([y_id_to_word[np.argmax(x)] for x in predictions[0]]))\n",
    "    print('Il a vu un vieux camion jaune')\n",
    "    print('Sample 2:')\n",
    "    print(' '.join([y_id_to_word[np.argmax(x)] for x in predictions[1]]))\n",
    "    print(' '.join([y_id_to_word[np.max(x)] for x in y[0]]))\n",
    "\n",
    "\n",
    "final_predictions(preproc_english_sentences, preproc_french_sentences, english_tokenizer, french_tokenizer)"
   ]
  },
  {
   "cell_type": "markdown",
   "metadata": {},
   "source": [
    "## Submission\n",
    "When you're ready to submit, complete the following steps:\n",
    "1. Review the [rubric](https://review.udacity.com/#!/rubrics/1004/view) to ensure your submission meets all requirements to pass\n",
    "2. Generate an HTML version of this notebook\n",
    "\n",
    "  - Run the next cell to attempt automatic generation (this is the recommended method in Workspaces)\n",
    "  - Navigate to **FILE -> Download as -> HTML (.html)**\n",
    "  - Manually generate a copy using `nbconvert` from your shell terminal\n",
    "```\n",
    "$ pip install nbconvert\n",
    "$ python -m nbconvert machine_translation.ipynb\n",
    "```\n",
    "  \n",
    "3. Submit the project\n",
    "\n",
    "  - If you are in a Workspace, simply click the \"Submit Project\" button (bottom towards the right)\n",
    "  \n",
    "  - Otherwise, add the following files into a zip archive and submit them \n",
    "  - `helper.py`\n",
    "  - `machine_translation.ipynb`\n",
    "  - `machine_translation.html`\n",
    "    - You can export the notebook by navigating to **File -> Download as -> HTML (.html)**."
   ]
  },
  {
   "cell_type": "markdown",
   "metadata": {},
   "source": [
    "### Generate the html\n",
    "\n",
    "**Save your notebook before running the next cell to generate the HTML output.** Then submit your project."
   ]
  },
  {
   "cell_type": "code",
   "execution_count": 24,
   "metadata": {},
   "outputs": [
    {
     "data": {
      "text/plain": [
       "['[NbConvertApp] Converting notebook machine_translation.ipynb to html',\n",
       " '[NbConvertApp] Writing 385263 bytes to machine_translation.html',\n",
       " '[NbConvertApp] Converting notebook machine_translation-zh.ipynb to html',\n",
       " '[NbConvertApp] Writing 328614 bytes to machine_translation-zh.html']"
      ]
     },
     "execution_count": 24,
     "metadata": {},
     "output_type": "execute_result"
    }
   ],
   "source": [
    "# Save before you run this cell!\n",
    "!!jupyter nbconvert *.ipynb"
   ]
  },
  {
   "cell_type": "markdown",
   "metadata": {},
   "source": [
    "## Optional Enhancements\n",
    "\n",
    "This project focuses on learning various network architectures for machine translation, but we don't evaluate the models according to best practices by splitting the data into separate test & training sets -- so the model accuracy is overstated. Use the [`sklearn.model_selection.train_test_split()`](http://scikit-learn.org/stable/modules/generated/sklearn.model_selection.train_test_split.html) function to create separate training & test datasets, then retrain each of the models using only the training set and evaluate the prediction accuracy using the hold out test set. Does the \"best\" model change?"
   ]
  }
 ],
 "metadata": {
  "kernelspec": {
   "display_name": "Python 3",
   "language": "python",
   "name": "python3"
  },
  "language_info": {
   "codemirror_mode": {
    "name": "ipython",
    "version": 3
   },
   "file_extension": ".py",
   "mimetype": "text/x-python",
   "name": "python",
   "nbconvert_exporter": "python",
   "pygments_lexer": "ipython3",
   "version": "3.6.3"
  }
 },
 "nbformat": 4,
 "nbformat_minor": 1
}
